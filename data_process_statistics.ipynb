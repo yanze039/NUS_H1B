{
 "cells": [
  {
   "cell_type": "code",
   "execution_count": 1,
   "metadata": {},
   "outputs": [],
   "source": [
    "import pandas as pd\n",
    "import numpy as np\n",
    "import matplotlib.pyplot as plt"
   ]
  },
  {
   "cell_type": "code",
   "execution_count": 4,
   "metadata": {},
   "outputs": [],
   "source": [
    "def get_statistics(data):\n",
    "    # get total cases:\n",
    "    total_cases = data[\"TOTAL_WORKERS\"].sum()\n",
    "    # get companey numbers:\n",
    "    companies = data['EMPLOYER_NAME'].unique()\n",
    "    print(len(companies))\n",
    "    print(\"Total cases: \", total_cases)\n",
    "    print(\"Total companies: \", len(companies))\n",
    "    return total_cases, len(companies)\n",
    "    "
   ]
  },
  {
   "cell_type": "code",
   "execution_count": 5,
   "metadata": {},
   "outputs": [
    {
     "name": "stdout",
     "output_type": "stream",
     "text": [
      "Processing data for fiscal year 2008\n",
      "32612\n",
      "Total cases:  261463\n",
      "Total companies:  32612\n",
      "Average cases per company: 8.01738623819453\n",
      "----------------------------------------\n",
      "Processing data for fiscal year 2009\n",
      "23075\n",
      "Total cases:  94954\n",
      "Total companies:  23075\n",
      "Average cases per company: 4.115016251354279\n",
      "----------------------------------------\n",
      "Processing data for fiscal year 2014\n",
      "29456\n",
      "Total cases:  296561\n",
      "Total companies:  29456\n",
      "Average cases per company: 10.067931830526888\n",
      "----------------------------------------\n",
      "Processing data for fiscal year 2015\n",
      "33456\n",
      "Total cases:  336743\n",
      "Total companies:  33456\n",
      "Average cases per company: 10.06524988043998\n",
      "----------------------------------------\n",
      "Processing data for fiscal year 2016\n",
      "35338\n",
      "Total cases:  343407\n",
      "Total companies:  35338\n",
      "Average cases per company: 9.71778255702077\n",
      "----------------------------------------\n",
      "Processing data for fiscal year 2017\n",
      "38031\n",
      "Total cases:  350435\n",
      "Total companies:  38031\n",
      "Average cases per company: 9.214456627488103\n",
      "----------------------------------------\n"
     ]
    }
   ],
   "source": [
    "all_years = [2008, 2009, 2014, 2015, 2016, 2017]\n",
    "tc_list = []\n",
    "nc_list = []\n",
    "for years in [2008, 2009, 2014, 2015, 2016, 2017]:\n",
    "    print(f'Processing data for fiscal year {years}')\n",
    "    processed_file = f'./processed_data/H-1B_Case_Data_FY{years}_processed.xlsx'\n",
    "    data = pd.read_excel(processed_file, index_col=None)\n",
    "    tc, nc = get_statistics(data)\n",
    "    tc_list.append(tc)\n",
    "    nc_list.append(nc)\n",
    "    print(f'Average cases per company: {tc/nc}')\n",
    "    print('----------------------------------------')\n",
    "    "
   ]
  },
  {
   "cell_type": "code",
   "execution_count": 6,
   "metadata": {},
   "outputs": [
    {
     "data": {
      "image/png": "[encoded data removed]",
      "text/plain": [
       "<Figure size 432x288 with 1 Axes>"
      ]
     },
     "metadata": {
      "needs_background": "light"
     },
     "output_type": "display_data"
    }
   ],
   "source": [
    "# plot bar chart\n",
    "fig, ax = plt.subplots()\n",
    "bar_width = 0.35\n",
    "index = np.arange(len(all_years))\n",
    "rects1 = ax.bar(index, tc_list, bar_width, label='Total Cases')\n",
    "rects2 = ax.bar(index + bar_width, nc_list, bar_width, label='Total Companies')\n",
    "ax.set_xlabel('Fiscal Year')\n",
    "ax.set_ylabel('Statistics')\n",
    "ax.set_title('LCA Statistics')\n",
    "ax.set_xticks(index + bar_width / 2)\n",
    "ax.set_xticklabels(all_years)\n",
    "ax.legend()\n",
    "plt.savefig('./figures/LCA_statistics.png')\n"
   ]
  },
  {
   "cell_type": "code",
   "execution_count": null,
   "metadata": {},
   "outputs": [],
   "source": []
  }
 ],
 "metadata": {
  "kernelspec": {
   "display_name": "base",
   "language": "python",
   "name": "python3"
  },
  "language_info": {
   "codemirror_mode": {
    "name": "ipython",
    "version": 3
   },
   "file_extension": ".py",
   "mimetype": "text/x-python",
   "name": "python",
   "nbconvert_exporter": "python",
   "pygments_lexer": "ipython3",
   "version": "3.9.12"
  }
 },
 "nbformat": 4,
 "nbformat_minor": 2
}
