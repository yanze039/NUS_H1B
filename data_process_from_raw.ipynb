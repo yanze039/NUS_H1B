{
 "cells": [
  {
   "cell_type": "code",
   "execution_count": 4,
   "metadata": {},
   "outputs": [],
   "source": [
    "import pandas as pd\n",
    "\n",
    "def get_data_by_keys(raw_data, fiscal_year, has_withdrawn = False):\n",
    "    standard_keys = ['CASE_NUMBER', 'CASE_STATUS', 'CASE_SUBMITTED', 'DECISION_DATE', 'VISA_CLASS','EMPLOYMENT_START_DATE','EMPLOYMENT_END_DATE',\n",
    "        'EMPLOYER_NAME', 'EMPLOYER_CITY', 'EMPLOYER_STATE', 'EMPLOYER_POSTAL_CODE', 'JOB_TITLE', 'SOC_CODE', 'TOTAL_WORKERS']\n",
    "    if has_withdrawn:\n",
    "        standard_keys.append(\"WITHDRAWN\")\n",
    "    data = raw_data[standard_keys]\n",
    "    return data\n",
    "        \n",
    "    \n",
    "def process_LCA_data(file_name, fiscal_year, has_withdrawn = False):\n",
    "    \n",
    "    # step 1: read LCA data\n",
    "    # LCA_data = pd.read_excel(f'../LCA_data/data/H-1B_Case_Data_FY{fiscal_year}.xlsx', index_col= None)\n",
    "    LCA_data = pd.read_excel(file_name, index_col= None)\n",
    "    # LCA_data = LCA_data[['CASE_NUMBER', 'CASE_STATUS', 'CASE_SUBMITTED', 'DECISION_DATE', 'VISA_CLASS','EMPLOYMENT_START_DATE','EMPLOYMENT_END_DATE',\n",
    "    #     'EMPLOYER_NAME', 'EMPLOYER_CITY', 'EMPLOYER_STATE', 'EMPLOYER_POSTAL_CODE', 'JOB_TITLE', 'SOC_CODE', 'TOTAL_WORKERS']]\n",
    "    LCA_data = get_data_by_keys(LCA_data, fiscal_year, has_withdrawn=has_withdrawn)\n",
    "    # step 2: filter out denied LCA\n",
    "    LCA_data = LCA_data[LCA_data['CASE_STATUS'] == 'CERTIFIED']\n",
    "    if has_withdrawn:\n",
    "        LCA_data = LCA_data[LCA_data['WITHDRAWN'] == 'N']\n",
    "    \n",
    "    # step 3: LCA certified date should be between Jan and Apr\n",
    "    LCA_certified_begin_date = pd.to_datetime(f'{fiscal_year}0101', format = '%Y-%m-%d')\n",
    "    LCA_certified_end_date = pd.to_datetime(f'{fiscal_year}0331', format = '%Y-%m-%d')\n",
    "    LCA_data = LCA_data[(LCA_data['DECISION_DATE'] >= LCA_certified_begin_date) & (LCA_data['DECISION_DATE'] <= LCA_certified_end_date)]\n",
    "    # step 4: LCA employment date should be between 5 and 6 months after being certified\n",
    "    LCA_data.loc[:,'LCA_employment_begin_date'] = LCA_data['DECISION_DATE'] + pd.DateOffset(months=5)\n",
    "    LCA_data.loc[:,'LCA_employment_end_date'] = LCA_data['DECISION_DATE'] + pd.DateOffset(months=6)\n",
    "    LCA_data = LCA_data[(LCA_data['EMPLOYMENT_START_DATE'] >= LCA_data['LCA_employment_begin_date']) & (LCA_data['EMPLOYMENT_START_DATE'] <= LCA_data['LCA_employment_end_date'])]\n",
    "    \n",
    "    return LCA_data\n",
    "\n"
   ]
  },
  {
   "cell_type": "code",
   "execution_count": 5,
   "metadata": {},
   "outputs": [],
   "source": [
    "def merge_2009_data(case_data, Icert_data):\n",
    "    case_data = process_LCA_data(case_data, 2009, has_withdrawn = True)\n",
    "    Icert_data = process_LCA_data(Icert_data, 2009, has_withdrawn = False)\n",
    "    # merge two dataframes\n",
    "    merged_data = pd.concat([case_data, Icert_data], axis = 0)\n",
    "    print(f'2009 merged data shape: {merged_data.shape}')\n",
    "    print(f'2009 case data shape: {case_data.shape}')\n",
    "    print(f'2009 Icert data shape: {Icert_data.shape}')\n",
    "    return merged_data"
   ]
  },
  {
   "cell_type": "code",
   "execution_count": 10,
   "metadata": {},
   "outputs": [
    {
     "name": "stdout",
     "output_type": "stream",
     "text": [
      "Processing data for fiscal year 2008\n",
      "Processing data for fiscal year 2009\n",
      "Processing data for fiscal year 2014\n",
      "Processing data for fiscal year 2015\n"
     ]
    },
    {
     "name": "stderr",
     "output_type": "stream",
     "text": [
      "/Users/wangyanze/opt/anaconda3/lib/python3.9/site-packages/pandas/core/arrays/datetimes.py:339: UserWarning: Parsing '15/04/2015' in DD/MM/YYYY format. Provide format or specify infer_datetime_format=True for consistent parsing.\n",
      "  return cls._from_sequence_not_strict(scalars, dtype=dtype, copy=copy)\n",
      "/Users/wangyanze/opt/anaconda3/lib/python3.9/site-packages/pandas/core/arrays/datetimes.py:339: UserWarning: Parsing '15/06/2015' in DD/MM/YYYY format. Provide format or specify infer_datetime_format=True for consistent parsing.\n",
      "  return cls._from_sequence_not_strict(scalars, dtype=dtype, copy=copy)\n",
      "/Users/wangyanze/opt/anaconda3/lib/python3.9/site-packages/pandas/core/arrays/datetimes.py:339: UserWarning: Parsing '19/03/2015' in DD/MM/YYYY format. Provide format or specify infer_datetime_format=True for consistent parsing.\n",
      "  return cls._from_sequence_not_strict(scalars, dtype=dtype, copy=copy)\n",
      "/Users/wangyanze/opt/anaconda3/lib/python3.9/site-packages/pandas/core/arrays/datetimes.py:339: UserWarning: Parsing '15/09/2015' in DD/MM/YYYY format. Provide format or specify infer_datetime_format=True for consistent parsing.\n",
      "  return cls._from_sequence_not_strict(scalars, dtype=dtype, copy=copy)\n",
      "/Users/wangyanze/opt/anaconda3/lib/python3.9/site-packages/pandas/core/arrays/datetimes.py:339: UserWarning: Parsing '17/04/2015' in DD/MM/YYYY format. Provide format or specify infer_datetime_format=True for consistent parsing.\n",
      "  return cls._from_sequence_not_strict(scalars, dtype=dtype, copy=copy)\n"
     ]
    },
    {
     "name": "stdout",
     "output_type": "stream",
     "text": [
      "Processing data for fiscal year 2016\n",
      "Processing data for fiscal year 2017\n"
     ]
    }
   ],
   "source": [
    "for years in [2008, 2009, 2014, 2015, 2016, 2017]:\n",
    "    print(f'Processing data for fiscal year {years}')\n",
    "    if years in [2008, 2009]:\n",
    "        has_withdrawn = True\n",
    "    else:\n",
    "        has_withdrawn = False\n",
    "    case_file = f'./data/H-1B_Case_Data_FY{years}.xlsx'\n",
    "    processed_file = f'./processed_data/H-1B_Case_Data_FY{years}_processed.xlsx'\n",
    "    processed_data = process_LCA_data(case_file, years, has_withdrawn = has_withdrawn)\n",
    "    # save processed data\n",
    "    processed_data.to_excel(processed_file, index = True)"
   ]
  },
  {
   "cell_type": "code",
   "execution_count": 2,
   "metadata": {},
   "outputs": [],
   "source": [
    "# # group by employer name\n",
    "# endata = LCA_data.groupby('EMPLOYER_NAME').sum().sort_values(by = 'EMPLOYER_NAME', ascending = False)\n",
    "# # save to excel\n",
    "# endata.to_excel(f'test.xlsx', index = True)"
   ]
  },
  {
   "cell_type": "code",
   "execution_count": 1,
   "metadata": {},
   "outputs": [],
   "source": [
    "# from fuzzywuzzy import process\n",
    "# import tqdm\n",
    "# # Extract unique company names\n",
    "# company_names = LCA_data['EMPLOYER_NAME'].unique()\n",
    "\n",
    "# # Create a mapping for similar names\n",
    "# def get_best_match(name, name_list, threshold=90):\n",
    "#     match, score = process.extractOne(name, name_list)\n",
    "#     return match if score >= threshold else name\n",
    "\n",
    "# print(company_names.shape)\n",
    "# # Apply fuzzy matching\n",
    "# unique_names = []\n",
    "# name_mapping = {}\n",
    "# for name in tqdm.tqdm(company_names):\n",
    "#     if len(unique_names) == 0:\n",
    "#         unique_names.append(name)\n",
    "#         name_mapping[name] = name\n",
    "#         continue\n",
    "    \n",
    "#     best_match = get_best_match(name, unique_names)\n",
    "#     if best_match not in unique_names:\n",
    "#         unique_names.append(best_match)\n",
    "#     name_mapping[name] = best_match\n",
    "    \n",
    "#     # print(f'{name} -> {best_match}')\n",
    "# #     if best_match not in unique_names:\n",
    "# #         unique_names.append(best_match)\n",
    "# #     name_mapping[name] = best_match\n",
    "\n",
    "# # # Replace original names with the best matches\n",
    "# # LCA_data['company_name'] = LCA_data['EMPLOYER_NAME'].map(name_mapping)\n",
    "\n",
    "# # # Now you can group by the standardized company names\n",
    "# # fuzzy_LCA_data = LCA_data.groupby('company_name').sum()"
   ]
  },
  {
   "cell_type": "code",
   "execution_count": null,
   "metadata": {},
   "outputs": [],
   "source": []
  },
  {
   "cell_type": "code",
   "execution_count": null,
   "metadata": {},
   "outputs": [],
   "source": []
  }
 ],
 "metadata": {
  "kernelspec": {
   "display_name": "base",
   "language": "python",
   "name": "python3"
  },
  "language_info": {
   "codemirror_mode": {
    "name": "ipython",
    "version": 3
   },
   "file_extension": ".py",
   "mimetype": "text/x-python",
   "name": "python",
   "nbconvert_exporter": "python",
   "pygments_lexer": "ipython3",
   "version": "3.9.12"
  }
 },
 "nbformat": 4,
 "nbformat_minor": 2
}
